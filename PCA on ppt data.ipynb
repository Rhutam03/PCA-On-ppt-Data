{
 "cells": [
  {
   "cell_type": "code",
   "execution_count": null,
   "id": "1e40b930",
   "metadata": {},
   "outputs": [],
   "source": [
    "import pandas as pd\n",
    "import numpy as np\n",
    "pd.set_option('display.max_columns' , None)\n",
    "pd.set_option('display.max_rows' , None)"
   ]
  },
  {
   "cell_type": "code",
   "execution_count": null,
   "id": "d39eb46c",
   "metadata": {},
   "outputs": [],
   "source": [
    "ppt = pd.read_csv(r\"C:\\Users\\rhuta\\Downloads\\Property_Price_Train.csv\")"
   ]
  },
  {
   "cell_type": "code",
   "execution_count": null,
   "id": "c4e9f47c",
   "metadata": {},
   "outputs": [],
   "source": [
    "ppt.head()"
   ]
  },
  {
   "cell_type": "code",
   "execution_count": null,
   "id": "f7b6f459",
   "metadata": {},
   "outputs": [],
   "source": [
    "ppt.shape"
   ]
  },
  {
   "cell_type": "markdown",
   "id": "fc5cfe19",
   "metadata": {},
   "source": [
    "PCA ON PPT DATA"
   ]
  },
  {
   "cell_type": "code",
   "execution_count": null,
   "id": "534273ce",
   "metadata": {},
   "outputs": [],
   "source": [
    "ppt.isnull().sum()"
   ]
  },
  {
   "cell_type": "code",
   "execution_count": null,
   "id": "900950c2",
   "metadata": {},
   "outputs": [],
   "source": [
    "del ppt['Pool_Quality']\n",
    "del ppt['Fence_Quality']\n",
    "del ppt['Miscellaneous_Feature']\n",
    "del ppt['Fireplace_Quality']\n",
    "del ppt['Id']"
   ]
  },
  {
   "cell_type": "code",
   "execution_count": null,
   "id": "f7b9652b",
   "metadata": {},
   "outputs": [],
   "source": [
    "ppt.shape"
   ]
  },
  {
   "cell_type": "code",
   "execution_count": null,
   "id": "eb5be225",
   "metadata": {},
   "outputs": [],
   "source": [
    "ppt.Lot_Extent.value_counts()"
   ]
  },
  {
   "cell_type": "code",
   "execution_count": null,
   "id": "0fa9ec93",
   "metadata": {},
   "outputs": [],
   "source": [
    "ppt.Lot_Extent = ppt.Lot_Extent.fillna(ppt.Lot_Extent.mean())\n",
    "ppt.Brick_Veneer_Type = ppt.Brick_Veneer_Type.fillna('None')\n",
    "ppt.Brick_Veneer_Area = ppt.Brick_Veneer_Area.fillna(0.0)\n",
    "ppt.Basement_Height=ppt.Basement_Height.fillna('Gd')\n",
    "ppt.Basement_Condition=ppt.Basement_Condition.fillna('TA')\n",
    "ppt.Exposure_Level=ppt.Exposure_Level.fillna('No')\n",
    "ppt.BsmtFinType1=ppt.BsmtFinType1.fillna('Unf')\n",
    "ppt.BsmtFinType2=ppt.BsmtFinType2.fillna('Unf')\n",
    "ppt.Electrical_System=ppt.Electrical_System.fillna('SBrkr')\n",
    "ppt.Garage=ppt.Garage.fillna('Attchd')\n",
    "ppt.Garage_Finish_Year=ppt.Garage_Finish_Year.fillna('Unf')\n",
    "ppt.Garage_Quality=ppt.Garage_Quality.fillna('TA')\n",
    "ppt.Garage_Condition=ppt.Garage_Condition.fillna('TA')\n",
    "ppt.Garage_Built_Year=ppt.Garage_Built_Year.fillna(ppt.Garage_Built_Year.mean())"
   ]
  },
  {
   "cell_type": "code",
   "execution_count": null,
   "id": "66754c0b",
   "metadata": {},
   "outputs": [],
   "source": [
    "ppt.isnull().sum()"
   ]
  },
  {
   "cell_type": "code",
   "execution_count": null,
   "id": "09a6d612",
   "metadata": {},
   "outputs": [],
   "source": [
    "del ppt['Lane_Type']"
   ]
  },
  {
   "cell_type": "code",
   "execution_count": null,
   "id": "4d2245b6",
   "metadata": {},
   "outputs": [],
   "source": [
    "from sklearn.preprocessing import LabelEncoder"
   ]
  },
  {
   "cell_type": "code",
   "execution_count": null,
   "id": "31f64469",
   "metadata": {},
   "outputs": [],
   "source": [
    "le = LabelEncoder()"
   ]
  },
  {
   "cell_type": "code",
   "execution_count": null,
   "id": "98a36f72",
   "metadata": {},
   "outputs": [],
   "source": [
    "ppt[ppt.select_dtypes(include=['object']).columns] = ppt[ppt.select_dtypes(include=['object']).columns].apply(le.fit_transform)"
   ]
  },
  {
   "cell_type": "code",
   "execution_count": null,
   "id": "0b07beee",
   "metadata": {},
   "outputs": [],
   "source": [
    "ppt.head()"
   ]
  },
  {
   "cell_type": "code",
   "execution_count": null,
   "id": "9f8caa71",
   "metadata": {},
   "outputs": [],
   "source": [
    "ppt.info()"
   ]
  },
  {
   "cell_type": "code",
   "execution_count": null,
   "id": "8d99ad7d",
   "metadata": {},
   "outputs": [],
   "source": [
    "ppt1 = ppt"
   ]
  },
  {
   "cell_type": "code",
   "execution_count": null,
   "id": "d4c15d50",
   "metadata": {},
   "outputs": [],
   "source": [
    "ppt = ppt.drop(['Sale_Price'] , axis = 1)"
   ]
  },
  {
   "cell_type": "code",
   "execution_count": null,
   "id": "4997e5f1",
   "metadata": {},
   "outputs": [],
   "source": [
    "ppt.shape"
   ]
  },
  {
   "cell_type": "code",
   "execution_count": null,
   "id": "3044e9ac",
   "metadata": {},
   "outputs": [],
   "source": [
    "ppt = ppt.sample(frac=1, axis=1) \n",
    "\n",
    "#THis code is to shuffle the columns to change the position of the columns."
   ]
  },
  {
   "cell_type": "markdown",
   "id": "95db2779",
   "metadata": {},
   "source": [
    "# PCA"
   ]
  },
  {
   "cell_type": "code",
   "execution_count": null,
   "id": "a0a32938",
   "metadata": {},
   "outputs": [],
   "source": [
    "from sklearn import decomposition\n",
    "from sklearn.decomposition import PCA\n",
    "from sklearn.preprocessing import StandardScaler"
   ]
  },
  {
   "cell_type": "markdown",
   "id": "26ae92aa",
   "metadata": {},
   "source": [
    "# Before doing or applying the PCA, we will make our data unitless"
   ]
  },
  {
   "cell_type": "code",
   "execution_count": null,
   "id": "ad075237",
   "metadata": {},
   "outputs": [],
   "source": [
    "scaler = StandardScaler()"
   ]
  },
  {
   "cell_type": "code",
   "execution_count": null,
   "id": "4ba9ee91",
   "metadata": {},
   "outputs": [],
   "source": [
    "scaled_ppt = scaler.fit_transform(ppt)"
   ]
  },
  {
   "cell_type": "code",
   "execution_count": null,
   "id": "1375221a",
   "metadata": {},
   "outputs": [],
   "source": [
    "scaled_ppt"
   ]
  },
  {
   "cell_type": "code",
   "execution_count": null,
   "id": "d6370deb",
   "metadata": {},
   "outputs": [],
   "source": [
    "scaled_ppt.shape"
   ]
  },
  {
   "cell_type": "code",
   "execution_count": null,
   "id": "f784cda1",
   "metadata": {},
   "outputs": [],
   "source": [
    "pca_ppt=PCA()"
   ]
  },
  {
   "cell_type": "code",
   "execution_count": null,
   "id": "ac081d31",
   "metadata": {},
   "outputs": [],
   "source": [
    "data_after_pca_transformation = pca_ppt.fit_transform(scaled_ppt)"
   ]
  },
  {
   "cell_type": "code",
   "execution_count": null,
   "id": "2a263041",
   "metadata": {},
   "outputs": [],
   "source": [
    "data_after_pca_transformation"
   ]
  },
  {
   "cell_type": "code",
   "execution_count": null,
   "id": "0f652ca5",
   "metadata": {},
   "outputs": [],
   "source": [
    "pca_ppt.explained_variance_ratio_"
   ]
  },
  {
   "cell_type": "code",
   "execution_count": null,
   "id": "dca96c5f",
   "metadata": {},
   "outputs": [],
   "source": [
    "list(pca_ppt.explained_variance_ratio_)\n",
    "\n",
    "#This values are in descending order"
   ]
  },
  {
   "cell_type": "code",
   "execution_count": null,
   "id": "6ec81a6d",
   "metadata": {},
   "outputs": [],
   "source": [
    "pca_ppt.explained_variance_ratio_.sum()"
   ]
  },
  {
   "cell_type": "code",
   "execution_count": null,
   "id": "123db30f",
   "metadata": {},
   "outputs": [],
   "source": [
    "len(pca_ppt.explained_variance_ratio_)"
   ]
  },
  {
   "cell_type": "code",
   "execution_count": null,
   "id": "eea7aab0",
   "metadata": {},
   "outputs": [],
   "source": [
    "l1 = list(pca_ppt.explained_variance_ratio_)"
   ]
  },
  {
   "cell_type": "code",
   "execution_count": null,
   "id": "3a8dd088",
   "metadata": {},
   "outputs": [],
   "source": [
    "np.sum(l1[0:53])"
   ]
  },
  {
   "cell_type": "code",
   "execution_count": null,
   "id": "321aac97",
   "metadata": {},
   "outputs": [],
   "source": [
    "#In any model there will always be an error (5 to 10%)\n",
    "\n",
    "# we can select those number of PCA which are able to explain around 90 to 95% of the variance.\n",
    "# We can ignore the rest of them."
   ]
  },
  {
   "cell_type": "code",
   "execution_count": null,
   "id": "33aa5f9f",
   "metadata": {},
   "outputs": [],
   "source": [
    "#PCA can be used for dimensionalty reduction bt not for feature selection"
   ]
  },
  {
   "cell_type": "code",
   "execution_count": null,
   "id": "0327e4b8",
   "metadata": {},
   "outputs": [],
   "source": [
    "# We will build the model using our first 55 PCA's"
   ]
  },
  {
   "cell_type": "code",
   "execution_count": null,
   "id": "21cad780",
   "metadata": {},
   "outputs": [],
   "source": [
    "type(data_after_pca_transformation)"
   ]
  },
  {
   "cell_type": "code",
   "execution_count": null,
   "id": "2658ba94",
   "metadata": {},
   "outputs": [],
   "source": [
    "df1 = pd.DataFrame(data_after_pca_transformation)"
   ]
  },
  {
   "cell_type": "code",
   "execution_count": null,
   "id": "642f9d1d",
   "metadata": {},
   "outputs": [],
   "source": [
    "df1"
   ]
  },
  {
   "cell_type": "code",
   "execution_count": null,
   "id": "3ce43bc5",
   "metadata": {},
   "outputs": [],
   "source": [
    "from sklearn.linear_model import LinearRegression"
   ]
  },
  {
   "cell_type": "code",
   "execution_count": null,
   "id": "5a713383",
   "metadata": {},
   "outputs": [],
   "source": [
    "linereg = LinearRegression()"
   ]
  },
  {
   "cell_type": "code",
   "execution_count": null,
   "id": "48fa180c",
   "metadata": {},
   "outputs": [],
   "source": [
    "linereg.fit(df1.iloc[: , 0:53] , ppt1.Sale_Price)"
   ]
  },
  {
   "cell_type": "code",
   "execution_count": null,
   "id": "f09a5c2b",
   "metadata": {},
   "outputs": [],
   "source": [
    "linereg.score(df1.iloc[: , 0:53] , ppt1.Sale_Price)"
   ]
  },
  {
   "cell_type": "code",
   "execution_count": null,
   "id": "9227efe0",
   "metadata": {},
   "outputs": [],
   "source": [
    "#PCA we can use to solve the problem of Multicollinearity"
   ]
  },
  {
   "cell_type": "code",
   "execution_count": null,
   "id": "541f5c77",
   "metadata": {},
   "outputs": [],
   "source": [
    "df1.corr()"
   ]
  },
  {
   "cell_type": "code",
   "execution_count": null,
   "id": "27a2f2ec",
   "metadata": {},
   "outputs": [],
   "source": []
  },
  {
   "cell_type": "code",
   "execution_count": null,
   "id": "a09266e4",
   "metadata": {},
   "outputs": [],
   "source": []
  },
  {
   "cell_type": "code",
   "execution_count": null,
   "id": "b335dcf8",
   "metadata": {},
   "outputs": [],
   "source": []
  }
 ],
 "metadata": {
  "kernelspec": {
   "display_name": "Python 3 (ipykernel)",
   "language": "python",
   "name": "python3"
  },
  "language_info": {
   "codemirror_mode": {
    "name": "ipython",
    "version": 3
   },
   "file_extension": ".py",
   "mimetype": "text/x-python",
   "name": "python",
   "nbconvert_exporter": "python",
   "pygments_lexer": "ipython3",
   "version": "3.9.12"
  }
 },
 "nbformat": 4,
 "nbformat_minor": 5
}
